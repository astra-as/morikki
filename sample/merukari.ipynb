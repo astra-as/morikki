{
 "cells": [
  {
   "cell_type": "code",
   "execution_count": 1,
   "metadata": {},
   "outputs": [],
   "source": [
    "from selenium import webdriver\n",
    "from selenium.webdriver.common.by import By\n",
    "from selenium.webdriver.common.keys import Keys\n",
    "from selenium.webdriver.chrome.service import Service\n",
    "from selenium.webdriver.support.ui import WebDriverWait\n",
    "from selenium.webdriver.support import expected_conditions as EC\n",
    "import time\n",
    "import pandas as pd"
   ]
  },
  {
   "cell_type": "code",
   "execution_count": 2,
   "metadata": {},
   "outputs": [],
   "source": [
    "item_ls = []\n",
    "item_url_ls = []\n",
    "\n",
    "# ブラウザの設定\n",
    "options = webdriver.ChromeOptions()\n",
    "# options.add_argument('--headless')\n",
    "options.add_argument('--no-sandbox')\n",
    "options.add_argument('--disable-dev-shm-usage')"
   ]
  },
  {
   "cell_type": "code",
   "execution_count": 7,
   "metadata": {},
   "outputs": [],
   "source": [
    "# ブラウザの起動\n",
    "browser = webdriver.Chrome(options=options)\n",
    "# browser.implicitly_wait(3)"
   ]
  },
  {
   "cell_type": "code",
   "execution_count": 9,
   "metadata": {},
   "outputs": [],
   "source": [
    "KEYWORD = \"大学院\"\n",
    "url = 'https://www.toyota-ti.ac.jp/'\n",
    "# url = f'https://jp.mercari.com/search?keyword={KEYWORD}'\n",
    "browser.get(url)\n",
    "# browser.implicitly_wait(5)\n",
    "\n",
    "# 商品の詳細ページのURLを取得する\n",
    "# item_box = browser.find_elements(By.CSS_SELECTOR, '#item-grid > ul > li')\n",
    "# for item_elem in item_box:\n",
    "#     item_url_ls.append(item_elem.find_element(By.CSS_SELECTOR, 'a').get_attribute('href'))"
   ]
  },
  {
   "cell_type": "code",
   "execution_count": null,
   "metadata": {},
   "outputs": [],
   "source": []
  }
 ],
 "metadata": {
  "kernelspec": {
   "display_name": "Python 3",
   "language": "python",
   "name": "python3"
  },
  "language_info": {
   "codemirror_mode": {
    "name": "ipython",
    "version": 3
   },
   "file_extension": ".py",
   "mimetype": "text/x-python",
   "name": "python",
   "nbconvert_exporter": "python",
   "pygments_lexer": "ipython3",
   "version": "3.11.1"
  }
 },
 "nbformat": 4,
 "nbformat_minor": 2
}
